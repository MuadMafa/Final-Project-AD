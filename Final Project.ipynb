{
 "cells": [
  {
   "cell_type": "markdown",
   "id": "07a1e0fe",
   "metadata": {},
   "source": [
    "### Mohamed Muad Mafaz\n",
    "### COADDS 202P-009"
   ]
  },
  {
   "cell_type": "markdown",
   "id": "f6d260aa",
   "metadata": {},
   "source": [
    "## Data Analysis"
   ]
  },
  {
   "cell_type": "code",
   "execution_count": 1,
   "id": "4b38b6b3",
   "metadata": {},
   "outputs": [],
   "source": [
    "#Importing Libraries\n",
    "import numpy as np\n",
    "import pandas as pd\n",
    "import seaborn as sns\n",
    "import matplotlib.pyplot as plt\n",
    "from matplotlib.figure import Figure\n",
    "from mpl_toolkits.mplot3d import Axes3D\n",
    "from matplotlib.colors import ListedColormap\n",
    "%matplotlib inline\n",
    "#%matplotlib notebook"
   ]
  },
  {
   "cell_type": "code",
   "execution_count": 2,
   "id": "f2f10de2",
   "metadata": {},
   "outputs": [
    {
     "data": {
      "text/html": [
       "<div>\n",
       "<style scoped>\n",
       "    .dataframe tbody tr th:only-of-type {\n",
       "        vertical-align: middle;\n",
       "    }\n",
       "\n",
       "    .dataframe tbody tr th {\n",
       "        vertical-align: top;\n",
       "    }\n",
       "\n",
       "    .dataframe thead th {\n",
       "        text-align: right;\n",
       "    }\n",
       "</style>\n",
       "<table border=\"1\" class=\"dataframe\">\n",
       "  <thead>\n",
       "    <tr style=\"text-align: right;\">\n",
       "      <th></th>\n",
       "      <th>Title</th>\n",
       "      <th>Sub_title</th>\n",
       "      <th>Price</th>\n",
       "      <th>Brand</th>\n",
       "      <th>Model</th>\n",
       "      <th>Edition</th>\n",
       "      <th>Year</th>\n",
       "      <th>Condition</th>\n",
       "      <th>Transmission</th>\n",
       "      <th>Body</th>\n",
       "      <th>Fuel</th>\n",
       "      <th>Capacity</th>\n",
       "      <th>Mileage</th>\n",
       "      <th>Location</th>\n",
       "      <th>Description</th>\n",
       "      <th>Post_URL</th>\n",
       "      <th>Seller_name</th>\n",
       "      <th>Seller_type</th>\n",
       "      <th>published_date</th>\n",
       "    </tr>\n",
       "  </thead>\n",
       "  <tbody>\n",
       "    <tr>\n",
       "      <th>0</th>\n",
       "      <td>Honda Vezel Limited 2017 for sale</td>\n",
       "      <td>Posted on 01 Sep 2:45 pm, Kurunegala City, Kur...</td>\n",
       "      <td>Rs 12,900,000</td>\n",
       "      <td>Honda</td>\n",
       "      <td>Vezel</td>\n",
       "      <td>Limited</td>\n",
       "      <td>2017</td>\n",
       "      <td>Used</td>\n",
       "      <td>Automatic</td>\n",
       "      <td>SUV / 4x4</td>\n",
       "      <td>Hybrid</td>\n",
       "      <td>1,500 cc</td>\n",
       "      <td>37,000 km</td>\n",
       "      <td>Kurunegala City,  Kurunegala</td>\n",
       "      <td>HONDA VEZEL LIMITEDCBE-XXXXMANU YEAR : 2017LIM...</td>\n",
       "      <td>https://ikman.lk/en/ad/honda-vezel-limited-201...</td>\n",
       "      <td>Prasad Enterprises</td>\n",
       "      <td>Premium-Member</td>\n",
       "      <td>2022-09-01 14:45:00</td>\n",
       "    </tr>\n",
       "    <tr>\n",
       "      <th>1</th>\n",
       "      <td>Jaguar XF Fully Loaded 2013 for sale</td>\n",
       "      <td>Posted on 28 Sep 10:23 am, Kurunegala City, Ku...</td>\n",
       "      <td>Rs 16,250,000</td>\n",
       "      <td>Jaguar</td>\n",
       "      <td>XF</td>\n",
       "      <td>Fully Loaded</td>\n",
       "      <td>2013</td>\n",
       "      <td>Used</td>\n",
       "      <td>Automatic</td>\n",
       "      <td>Saloon</td>\n",
       "      <td>Diesel</td>\n",
       "      <td>2,200 cc</td>\n",
       "      <td>42,000 km</td>\n",
       "      <td>Kurunegala City,  Kurunegala</td>\n",
       "      <td>1st owner(registered owner)Diesel(13-14km per ...</td>\n",
       "      <td>https://ikman.lk/en/ad/jaguar-xf-fully-loaded-...</td>\n",
       "      <td>Dhanushka Dharmasri</td>\n",
       "      <td>Member</td>\n",
       "      <td>2022-09-28 10:23:00</td>\n",
       "    </tr>\n",
       "    <tr>\n",
       "      <th>2</th>\n",
       "      <td>Toyota CHR GT New Face 2wd 2020 for sale</td>\n",
       "      <td>Posted on 16 Sep 1:16 pm, Colombo 7, Colombo</td>\n",
       "      <td>Rs 17,000,000</td>\n",
       "      <td>Toyota</td>\n",
       "      <td>CHR</td>\n",
       "      <td>GT New Face 2wd</td>\n",
       "      <td>2020</td>\n",
       "      <td>Used</td>\n",
       "      <td>Automatic</td>\n",
       "      <td>SUV / 4x4</td>\n",
       "      <td>Petrol</td>\n",
       "      <td>1,200 cc</td>\n",
       "      <td>15,000 km</td>\n",
       "      <td>Colombo 7,  Colombo</td>\n",
       "      <td>2020 Facelift modelFirst owner (No previous ow...</td>\n",
       "      <td>https://ikman.lk/en/ad/toyota-chr-gt-new-face-...</td>\n",
       "      <td>Carzone Lanka</td>\n",
       "      <td>Member</td>\n",
       "      <td>2022-09-16 13:16:00</td>\n",
       "    </tr>\n",
       "    <tr>\n",
       "      <th>3</th>\n",
       "      <td>Toyota CHR Toyato 2017 for sale</td>\n",
       "      <td>Posted on 30 Sep 10:12 am, Colombo 7, Colombo</td>\n",
       "      <td>Rs 13,000,000</td>\n",
       "      <td>Toyota</td>\n",
       "      <td>CHR</td>\n",
       "      <td>Toyato</td>\n",
       "      <td>2017</td>\n",
       "      <td>Used</td>\n",
       "      <td>Automatic</td>\n",
       "      <td>SUV / 4x4</td>\n",
       "      <td>Petrol</td>\n",
       "      <td>1,200 cc</td>\n",
       "      <td>21,000 km</td>\n",
       "      <td>Colombo 7,  Colombo</td>\n",
       "      <td>Toyota CHR GT Turbo1st owner Imported as a bra...</td>\n",
       "      <td>https://ikman.lk/en/ad/toyota-chr-toyato-2017-...</td>\n",
       "      <td>Carzone Lanka</td>\n",
       "      <td>Member</td>\n",
       "      <td>2022-09-30 10:12:00</td>\n",
       "    </tr>\n",
       "    <tr>\n",
       "      <th>4</th>\n",
       "      <td>Toyota Land Cruiser Prado 2015 for sale</td>\n",
       "      <td>Posted on 30 Sep 9:50 pm, Kelaniya, Gampaha</td>\n",
       "      <td>Rs 33,500,000</td>\n",
       "      <td>Toyota</td>\n",
       "      <td>Land Cruiser Prado</td>\n",
       "      <td>prado</td>\n",
       "      <td>2015</td>\n",
       "      <td>Used</td>\n",
       "      <td>Automatic</td>\n",
       "      <td>SUV / 4x4</td>\n",
       "      <td>Petrol</td>\n",
       "      <td>2,700 cc</td>\n",
       "      <td>57,000 km</td>\n",
       "      <td>Kelaniya,  Gampaha</td>\n",
       "      <td>Toyota Land Cruiser Prado 20152 nd Owner for 5...</td>\n",
       "      <td>https://ikman.lk/en/ad/toyota-land-cruiser-pra...</td>\n",
       "      <td>Shine Music Center</td>\n",
       "      <td>Member</td>\n",
       "      <td>2022-09-30 21:50:00</td>\n",
       "    </tr>\n",
       "  </tbody>\n",
       "</table>\n",
       "</div>"
      ],
      "text/plain": [
       "                                      Title  \\\n",
       "0         Honda Vezel Limited 2017 for sale   \n",
       "1      Jaguar XF Fully Loaded 2013 for sale   \n",
       "2  Toyota CHR GT New Face 2wd 2020 for sale   \n",
       "3           Toyota CHR Toyato 2017 for sale   \n",
       "4   Toyota Land Cruiser Prado 2015 for sale   \n",
       "\n",
       "                                           Sub_title          Price   Brand  \\\n",
       "0  Posted on 01 Sep 2:45 pm, Kurunegala City, Kur...  Rs 12,900,000   Honda   \n",
       "1  Posted on 28 Sep 10:23 am, Kurunegala City, Ku...  Rs 16,250,000  Jaguar   \n",
       "2       Posted on 16 Sep 1:16 pm, Colombo 7, Colombo  Rs 17,000,000  Toyota   \n",
       "3      Posted on 30 Sep 10:12 am, Colombo 7, Colombo  Rs 13,000,000  Toyota   \n",
       "4        Posted on 30 Sep 9:50 pm, Kelaniya, Gampaha  Rs 33,500,000  Toyota   \n",
       "\n",
       "                Model          Edition  Year Condition Transmission  \\\n",
       "0               Vezel          Limited  2017      Used    Automatic   \n",
       "1                  XF     Fully Loaded  2013      Used    Automatic   \n",
       "2                 CHR  GT New Face 2wd  2020      Used    Automatic   \n",
       "3                 CHR           Toyato  2017      Used    Automatic   \n",
       "4  Land Cruiser Prado            prado  2015      Used    Automatic   \n",
       "\n",
       "        Body    Fuel  Capacity    Mileage                       Location  \\\n",
       "0  SUV / 4x4  Hybrid  1,500 cc  37,000 km   Kurunegala City,  Kurunegala   \n",
       "1     Saloon  Diesel  2,200 cc  42,000 km   Kurunegala City,  Kurunegala   \n",
       "2  SUV / 4x4  Petrol  1,200 cc  15,000 km            Colombo 7,  Colombo   \n",
       "3  SUV / 4x4  Petrol  1,200 cc  21,000 km            Colombo 7,  Colombo   \n",
       "4  SUV / 4x4  Petrol  2,700 cc  57,000 km             Kelaniya,  Gampaha   \n",
       "\n",
       "                                         Description  \\\n",
       "0  HONDA VEZEL LIMITEDCBE-XXXXMANU YEAR : 2017LIM...   \n",
       "1  1st owner(registered owner)Diesel(13-14km per ...   \n",
       "2  2020 Facelift modelFirst owner (No previous ow...   \n",
       "3  Toyota CHR GT Turbo1st owner Imported as a bra...   \n",
       "4  Toyota Land Cruiser Prado 20152 nd Owner for 5...   \n",
       "\n",
       "                                            Post_URL          Seller_name  \\\n",
       "0  https://ikman.lk/en/ad/honda-vezel-limited-201...   Prasad Enterprises   \n",
       "1  https://ikman.lk/en/ad/jaguar-xf-fully-loaded-...  Dhanushka Dharmasri   \n",
       "2  https://ikman.lk/en/ad/toyota-chr-gt-new-face-...        Carzone Lanka   \n",
       "3  https://ikman.lk/en/ad/toyota-chr-toyato-2017-...        Carzone Lanka   \n",
       "4  https://ikman.lk/en/ad/toyota-land-cruiser-pra...   Shine Music Center   \n",
       "\n",
       "      Seller_type       published_date  \n",
       "0  Premium-Member  2022-09-01 14:45:00  \n",
       "1          Member  2022-09-28 10:23:00  \n",
       "2          Member  2022-09-16 13:16:00  \n",
       "3          Member  2022-09-30 10:12:00  \n",
       "4          Member  2022-09-30 21:50:00  "
      ]
     },
     "execution_count": 2,
     "metadata": {},
     "output_type": "execute_result"
    }
   ],
   "source": [
    "#Loading the data set\n",
    "vehicle_data = pd.read_csv(r\"C:\\Users\\acer\\Downloads\\vehicle_data.csv\", low_memory=False)\n",
    "vehicle_data.head()"
   ]
  },
  {
   "cell_type": "code",
   "execution_count": 3,
   "id": "94e98b20",
   "metadata": {},
   "outputs": [
    {
     "data": {
      "text/plain": [
       "(123971, 19)"
      ]
     },
     "execution_count": 3,
     "metadata": {},
     "output_type": "execute_result"
    }
   ],
   "source": [
    "vehicle_data.shape"
   ]
  },
  {
   "cell_type": "code",
   "execution_count": 4,
   "id": "69bfa869",
   "metadata": {},
   "outputs": [
    {
     "data": {
      "text/plain": [
       "Title             object\n",
       "Sub_title         object\n",
       "Price             object\n",
       "Brand             object\n",
       "Model             object\n",
       "Edition           object\n",
       "Year               int64\n",
       "Condition         object\n",
       "Transmission      object\n",
       "Body              object\n",
       "Fuel              object\n",
       "Capacity          object\n",
       "Mileage           object\n",
       "Location          object\n",
       "Description       object\n",
       "Post_URL          object\n",
       "Seller_name       object\n",
       "Seller_type       object\n",
       "published_date    object\n",
       "dtype: object"
      ]
     },
     "execution_count": 4,
     "metadata": {},
     "output_type": "execute_result"
    }
   ],
   "source": [
    "vehicle_data.dtypes"
   ]
  },
  {
   "cell_type": "code",
   "execution_count": 5,
   "id": "7678359b",
   "metadata": {},
   "outputs": [
    {
     "data": {
      "text/plain": [
       "Title                 0\n",
       "Sub_title             0\n",
       "Price                 0\n",
       "Brand                 0\n",
       "Model                 1\n",
       "Edition           76433\n",
       "Year                  0\n",
       "Condition             0\n",
       "Transmission          1\n",
       "Body               5095\n",
       "Fuel                  0\n",
       "Capacity            205\n",
       "Mileage               0\n",
       "Location              0\n",
       "Description       16174\n",
       "Post_URL              0\n",
       "Seller_name          98\n",
       "Seller_type           0\n",
       "published_date        0\n",
       "dtype: int64"
      ]
     },
     "execution_count": 5,
     "metadata": {},
     "output_type": "execute_result"
    }
   ],
   "source": [
    "vehicle_data.isnull().sum()"
   ]
  },
  {
   "cell_type": "code",
   "execution_count": 6,
   "id": "2617863f",
   "metadata": {},
   "outputs": [],
   "source": [
    "#Filling Null values with mode as it has a large number of records\n",
    "vehicle_data['Edition'].fillna(vehicle_data['Edition'].mode()[0], inplace = True)\n",
    "vehicle_data['Body'].fillna(vehicle_data['Body'].mode()[0], inplace = True)\n",
    "vehicle_data['Capacity'].fillna(vehicle_data['Capacity'].mode()[0], inplace = True)\n",
    "vehicle_data['Description'].fillna(vehicle_data['Description'].mode()[0], inplace = True)\n",
    "vehicle_data['Transmission'].fillna(vehicle_data['Transmission'].mode()[0], inplace = True)\n",
    "\n",
    "#Dropping Null values as it has only a fewer number records which will not make any difference\n",
    "vehicle_data = vehicle_data[vehicle_data['Model'].notna()]\n",
    "vehicle_data = vehicle_data[vehicle_data['Transmission'].notna()]\n",
    "vehicle_data = vehicle_data[vehicle_data['Seller_name'].notna()]"
   ]
  },
  {
   "cell_type": "code",
   "execution_count": 7,
   "id": "caabe785",
   "metadata": {},
   "outputs": [
    {
     "data": {
      "text/plain": [
       "Title             0\n",
       "Sub_title         0\n",
       "Price             0\n",
       "Brand             0\n",
       "Model             0\n",
       "Edition           0\n",
       "Year              0\n",
       "Condition         0\n",
       "Transmission      0\n",
       "Body              0\n",
       "Fuel              0\n",
       "Capacity          0\n",
       "Mileage           0\n",
       "Location          0\n",
       "Description       0\n",
       "Post_URL          0\n",
       "Seller_name       0\n",
       "Seller_type       0\n",
       "published_date    0\n",
       "dtype: int64"
      ]
     },
     "execution_count": 7,
     "metadata": {},
     "output_type": "execute_result"
    }
   ],
   "source": [
    "vehicle_data.isnull().sum()"
   ]
  },
  {
   "cell_type": "markdown",
   "id": "fc8e53b7",
   "metadata": {},
   "source": [
    "**Convert type of Price to float**"
   ]
  },
  {
   "cell_type": "code",
   "execution_count": 8,
   "id": "071dc2b1",
   "metadata": {},
   "outputs": [],
   "source": [
    "#Renaming the column name Price\n",
    "vehicle_data.rename({\"Price\":\"Price (Rs)\"}, axis = 1, inplace = True)"
   ]
  },
  {
   "cell_type": "code",
   "execution_count": 12,
   "id": "a0a56abe",
   "metadata": {},
   "outputs": [],
   "source": [
    "#Removing the word Negotiable to cast the string to float\n",
    "vehicle_data.drop(vehicle_data[vehicle_data['Price (Rs)'] == 'Negotiable'].index, inplace = True)"
   ]
  },
  {
   "cell_type": "code",
   "execution_count": 13,
   "id": "51ee4df5",
   "metadata": {},
   "outputs": [
    {
     "name": "stderr",
     "output_type": "stream",
     "text": [
      "C:\\Users\\acer\\AppData\\Local\\Temp\\ipykernel_12776\\3656911984.py:2: FutureWarning: The default value of regex will change from True to False in a future version. In addition, single character regular expressions will *not* be treated as literal strings when regex=True.\n",
      "  vehicle_data['Price (Rs)'] = vehicle_data['Price (Rs)'].str.replace('Rs', '').str.replace(',', '').str.replace('.', '').str.strip();\n"
     ]
    }
   ],
   "source": [
    "#removing spaces,commas,Rs to convert string to float\n",
    "vehicle_data['Price (Rs)'] = vehicle_data['Price (Rs)'].str.replace('Rs', '').str.replace(',', '').str.replace('.', '').str.strip();"
   ]
  },
  {
   "cell_type": "code",
   "execution_count": 14,
   "id": "bb22aab4",
   "metadata": {},
   "outputs": [],
   "source": [
    "vehicle_data['Price (Rs)'] = vehicle_data['Price (Rs)'].astype(float)"
   ]
  },
  {
   "cell_type": "markdown",
   "id": "63bdd961",
   "metadata": {},
   "source": [
    "**Convert type of Capacity to Int**"
   ]
  },
  {
   "cell_type": "code",
   "execution_count": 15,
   "id": "4c8af8c0",
   "metadata": {},
   "outputs": [],
   "source": [
    "#Renaming\n",
    "vehicle_data.rename({\"Capacity\" : \"Capacity(cc)\"}, axis = 1, inplace = True)"
   ]
  },
  {
   "cell_type": "code",
   "execution_count": 16,
   "id": "ce5f50a2",
   "metadata": {},
   "outputs": [],
   "source": [
    "#Dropping values that are not applicable\n",
    "vehicle_data.drop(vehicle_data[vehicle_data['Capacity(cc)'] == vehicle_data['Capacity(cc)'].str.startswith('-')].index, inplace = True)\n",
    "vehicle_data.drop(vehicle_data[vehicle_data['Capacity(cc)'] == '-'].index, inplace = True)\n",
    "vehicle_data.drop(vehicle_data[vehicle_data['Capacity(cc)'] == 'Manual'].index, inplace = True)\n",
    "vehicle_data.drop(vehicle_data[vehicle_data['Capacity(cc)'] == 'Automatic'].index, inplace = True)"
   ]
  },
  {
   "cell_type": "code",
   "execution_count": 17,
   "id": "b7f78e4b",
   "metadata": {},
   "outputs": [],
   "source": [
    "vehicle_data.drop(vehicle_data[vehicle_data['Year'] == 0].index, inplace = True)\n",
    "vehicle_data.drop(vehicle_data[vehicle_data['Year'] >= 2022].index, inplace = True)"
   ]
  },
  {
   "cell_type": "code",
   "execution_count": 18,
   "id": "53b08bf5",
   "metadata": {},
   "outputs": [
    {
     "name": "stderr",
     "output_type": "stream",
     "text": [
      "C:\\Users\\acer\\AppData\\Local\\Temp\\ipykernel_12776\\3352222487.py:2: FutureWarning: The default value of regex will change from True to False in a future version. In addition, single character regular expressions will *not* be treated as literal strings when regex=True.\n",
      "  vehicle_data['Capacity(cc)'] = vehicle_data['Capacity(cc)'].str.replace('cc', '').str.replace(',', '').str.replace('.', '').str.strip().astype('int64');\n"
     ]
    }
   ],
   "source": [
    "#Converting Capacity to Integer\n",
    "vehicle_data['Capacity(cc)'] = vehicle_data['Capacity(cc)'].str.replace('cc', '').str.replace(',', '').str.replace('.', '').str.strip().astype('int64');"
   ]
  },
  {
   "cell_type": "markdown",
   "id": "52789430",
   "metadata": {},
   "source": [
    "**Convert type of Capacity to Int**"
   ]
  },
  {
   "cell_type": "code",
   "execution_count": 19,
   "id": "c0858f1f",
   "metadata": {},
   "outputs": [],
   "source": [
    "#Renaming\n",
    "vehicle_data.rename({\"Mileage\" : \"Mileage(km)\"}, axis = 1, inplace = True)"
   ]
  },
  {
   "cell_type": "code",
   "execution_count": 20,
   "id": "33d1e380",
   "metadata": {},
   "outputs": [],
   "source": [
    "vehicle_data.drop(vehicle_data[vehicle_data['Mileage(km)'] == '-'].index, inplace = True)"
   ]
  },
  {
   "cell_type": "code",
   "execution_count": 21,
   "id": "54939b8f",
   "metadata": {},
   "outputs": [],
   "source": [
    "#Converting Mileage to Integer\n",
    "vehicle_data['Mileage(km)'] = vehicle_data['Mileage(km)'].str.replace('km', '').str.replace(',', '').astype('int64')"
   ]
  },
  {
   "cell_type": "code",
   "execution_count": 22,
   "id": "b15c68f0",
   "metadata": {},
   "outputs": [],
   "source": [
    "#Changing the values of column Title\n",
    "vehicle_data['Title'] = vehicle_data['Brand'] + \" \"+ vehicle_data['Model']"
   ]
  },
  {
   "cell_type": "code",
   "execution_count": 23,
   "id": "e4eb40f8",
   "metadata": {},
   "outputs": [],
   "source": [
    "#Conveting type of Published_date to datetime\n",
    "vehicle_data['published_date'] = pd.to_datetime(vehicle_data['published_date'])"
   ]
  },
  {
   "cell_type": "code",
   "execution_count": 24,
   "id": "4f9de964",
   "metadata": {},
   "outputs": [],
   "source": [
    "vehicle_data.drop([\"Sub_title\",'Description'], axis = 1, inplace = True)"
   ]
  },
  {
   "cell_type": "code",
   "execution_count": 25,
   "id": "141b4087",
   "metadata": {},
   "outputs": [
    {
     "data": {
      "text/plain": [
       "(110627, 17)"
      ]
     },
     "execution_count": 25,
     "metadata": {},
     "output_type": "execute_result"
    }
   ],
   "source": [
    "vehicle_data.shape"
   ]
  },
  {
   "cell_type": "code",
   "execution_count": 26,
   "id": "6c6e1383",
   "metadata": {},
   "outputs": [
    {
     "data": {
      "text/html": [
       "<div>\n",
       "<style scoped>\n",
       "    .dataframe tbody tr th:only-of-type {\n",
       "        vertical-align: middle;\n",
       "    }\n",
       "\n",
       "    .dataframe tbody tr th {\n",
       "        vertical-align: top;\n",
       "    }\n",
       "\n",
       "    .dataframe thead th {\n",
       "        text-align: right;\n",
       "    }\n",
       "</style>\n",
       "<table border=\"1\" class=\"dataframe\">\n",
       "  <thead>\n",
       "    <tr style=\"text-align: right;\">\n",
       "      <th></th>\n",
       "      <th>Price (Rs)</th>\n",
       "      <th>Year</th>\n",
       "      <th>Capacity(cc)</th>\n",
       "      <th>Mileage(km)</th>\n",
       "    </tr>\n",
       "  </thead>\n",
       "  <tbody>\n",
       "    <tr>\n",
       "      <th>count</th>\n",
       "      <td>1.106270e+05</td>\n",
       "      <td>110627.000000</td>\n",
       "      <td>1.106270e+05</td>\n",
       "      <td>1.106270e+05</td>\n",
       "    </tr>\n",
       "    <tr>\n",
       "      <th>mean</th>\n",
       "      <td>6.794917e+06</td>\n",
       "      <td>2009.096197</td>\n",
       "      <td>1.756085e+04</td>\n",
       "      <td>3.392546e+05</td>\n",
       "    </tr>\n",
       "    <tr>\n",
       "      <th>std</th>\n",
       "      <td>1.063360e+07</td>\n",
       "      <td>10.408531</td>\n",
       "      <td>2.836611e+06</td>\n",
       "      <td>1.920085e+07</td>\n",
       "    </tr>\n",
       "    <tr>\n",
       "      <th>min</th>\n",
       "      <td>8.500000e+01</td>\n",
       "      <td>1900.000000</td>\n",
       "      <td>-2.200000e+03</td>\n",
       "      <td>0.000000e+00</td>\n",
       "    </tr>\n",
       "    <tr>\n",
       "      <th>25%</th>\n",
       "      <td>1.500000e+06</td>\n",
       "      <td>2005.000000</td>\n",
       "      <td>6.600000e+02</td>\n",
       "      <td>3.700000e+04</td>\n",
       "    </tr>\n",
       "    <tr>\n",
       "      <th>50%</th>\n",
       "      <td>4.350000e+06</td>\n",
       "      <td>2013.000000</td>\n",
       "      <td>1.300000e+03</td>\n",
       "      <td>7.200000e+04</td>\n",
       "    </tr>\n",
       "    <tr>\n",
       "      <th>75%</th>\n",
       "      <td>7.800000e+06</td>\n",
       "      <td>2016.000000</td>\n",
       "      <td>1.600000e+03</td>\n",
       "      <td>1.230000e+05</td>\n",
       "    </tr>\n",
       "    <tr>\n",
       "      <th>max</th>\n",
       "      <td>7.750256e+08</td>\n",
       "      <td>2021.000000</td>\n",
       "      <td>7.010178e+08</td>\n",
       "      <td>4.596363e+09</td>\n",
       "    </tr>\n",
       "  </tbody>\n",
       "</table>\n",
       "</div>"
      ],
      "text/plain": [
       "         Price (Rs)           Year  Capacity(cc)   Mileage(km)\n",
       "count  1.106270e+05  110627.000000  1.106270e+05  1.106270e+05\n",
       "mean   6.794917e+06    2009.096197  1.756085e+04  3.392546e+05\n",
       "std    1.063360e+07      10.408531  2.836611e+06  1.920085e+07\n",
       "min    8.500000e+01    1900.000000 -2.200000e+03  0.000000e+00\n",
       "25%    1.500000e+06    2005.000000  6.600000e+02  3.700000e+04\n",
       "50%    4.350000e+06    2013.000000  1.300000e+03  7.200000e+04\n",
       "75%    7.800000e+06    2016.000000  1.600000e+03  1.230000e+05\n",
       "max    7.750256e+08    2021.000000  7.010178e+08  4.596363e+09"
      ]
     },
     "execution_count": 26,
     "metadata": {},
     "output_type": "execute_result"
    }
   ],
   "source": [
    "vehicle_data.describe()"
   ]
  },
  {
   "cell_type": "code",
   "execution_count": 27,
   "id": "df992386",
   "metadata": {},
   "outputs": [
    {
     "data": {
      "text/html": [
       "<div>\n",
       "<style scoped>\n",
       "    .dataframe tbody tr th:only-of-type {\n",
       "        vertical-align: middle;\n",
       "    }\n",
       "\n",
       "    .dataframe tbody tr th {\n",
       "        vertical-align: top;\n",
       "    }\n",
       "\n",
       "    .dataframe thead th {\n",
       "        text-align: right;\n",
       "    }\n",
       "</style>\n",
       "<table border=\"1\" class=\"dataframe\">\n",
       "  <thead>\n",
       "    <tr style=\"text-align: right;\">\n",
       "      <th></th>\n",
       "      <th>Price (Rs)</th>\n",
       "      <th>Year</th>\n",
       "      <th>Capacity(cc)</th>\n",
       "      <th>Mileage(km)</th>\n",
       "    </tr>\n",
       "  </thead>\n",
       "  <tbody>\n",
       "    <tr>\n",
       "      <th>Price (Rs)</th>\n",
       "      <td>1.000000</td>\n",
       "      <td>0.261665</td>\n",
       "      <td>-0.003047</td>\n",
       "      <td>0.019401</td>\n",
       "    </tr>\n",
       "    <tr>\n",
       "      <th>Year</th>\n",
       "      <td>0.261665</td>\n",
       "      <td>1.000000</td>\n",
       "      <td>0.000992</td>\n",
       "      <td>-0.013091</td>\n",
       "    </tr>\n",
       "    <tr>\n",
       "      <th>Capacity(cc)</th>\n",
       "      <td>-0.003047</td>\n",
       "      <td>0.000992</td>\n",
       "      <td>1.000000</td>\n",
       "      <td>0.069222</td>\n",
       "    </tr>\n",
       "    <tr>\n",
       "      <th>Mileage(km)</th>\n",
       "      <td>0.019401</td>\n",
       "      <td>-0.013091</td>\n",
       "      <td>0.069222</td>\n",
       "      <td>1.000000</td>\n",
       "    </tr>\n",
       "  </tbody>\n",
       "</table>\n",
       "</div>"
      ],
      "text/plain": [
       "              Price (Rs)      Year  Capacity(cc)  Mileage(km)\n",
       "Price (Rs)      1.000000  0.261665     -0.003047     0.019401\n",
       "Year            0.261665  1.000000      0.000992    -0.013091\n",
       "Capacity(cc)   -0.003047  0.000992      1.000000     0.069222\n",
       "Mileage(km)     0.019401 -0.013091      0.069222     1.000000"
      ]
     },
     "execution_count": 27,
     "metadata": {},
     "output_type": "execute_result"
    },
    {
     "data": {
      "image/png": "[encoded data removed]",
      "text/plain": [
       "<Figure size 720x360 with 2 Axes>"
      ]
     },
     "metadata": {
      "needs_background": "light"
     },
     "output_type": "display_data"
    }
   ],
   "source": [
    "plt.figure(figsize=(10,5))\n",
    "v= vehicle_data.corr()\n",
    "sns.heatmap(v,cmap=\"RdBu\",annot=True)\n",
    "v"
   ]
  },
  {
   "cell_type": "markdown",
   "id": "3322e999",
   "metadata": {},
   "source": [
    "## Data Visualizaton"
   ]
  },
  {
   "cell_type": "code",
   "execution_count": 28,
   "id": "f2f39a1e",
   "metadata": {},
   "outputs": [
    {
     "data": {
      "image/png": "[encoded data removed]",
      "text/plain": [
       "<Figure size 432x288 with 1 Axes>"
      ]
     },
     "metadata": {
      "needs_background": "light"
     },
     "output_type": "display_data"
    }
   ],
   "source": [
    "## Top 5 sellers\n",
    "\n",
    "top_10_seller = vehicle_data[[\"Title\", \"Seller_name\"]].groupby(\"Seller_name\").agg(['count'])['Title']['count'].sort_values(ascending=False)[:10]\n",
    "fig = sns.barplot( x = top_10_seller.index, y = top_10_seller.values, color = 'blue', palette = 'hls')\n",
    "fig.set_xticklabels(labels=top_10_seller.index , rotation=45)\n",
    "fig.set_ylabel(\"Number of Ads\")\n",
    "fig.set_xlabel(\"Seller Names\")\n",
    "fig.set_title(\"Top 10 Sellers with most number of ads\");"
   ]
  },
  {
   "cell_type": "code",
   "execution_count": 29,
   "id": "8b6625bf",
   "metadata": {},
   "outputs": [
    {
     "data": {
      "image/png": "[encoded data removed]",
      "text/plain": [
       "<Figure size 432x288 with 1 Axes>"
      ]
     },
     "metadata": {
      "needs_background": "light"
     },
     "output_type": "display_data"
    }
   ],
   "source": [
    "#Top 5 cars for sale\n",
    "top_5_car_brand = vehicle_data[[\"Title\", \"Brand\"]].groupby(\"Brand\").agg(['count'])['Title']['count'].sort_values(ascending=False)[:5]\n",
    "fig = sns.barplot( x = top_5_car_brand.index, y = top_5_car_brand.values, color = 'blue', palette = 'Paired')\n",
    "fig.set_xticklabels(labels=top_5_car_brand.index , rotation=45)\n",
    "fig.set_ylabel(\"Number of Cars\")\n",
    "fig.set_xlabel(\"Car Brand\")\n",
    "fig.set_title(\"Top 5 Most Car For SAle\");"
   ]
  },
  {
   "cell_type": "code",
   "execution_count": 30,
   "id": "2d8b4ce0",
   "metadata": {},
   "outputs": [],
   "source": [
    "vehicle_data['Year'] = pd.to_datetime(vehicle_data['Year'].astype(str)).values\n",
    "df = vehicle_data[[\"Year\", \"Price (Rs)\"]].groupby('Year').agg({\"Price (Rs)\":\"mean\"})"
   ]
  },
  {
   "cell_type": "code",
   "execution_count": 31,
   "id": "6cfb15ae",
   "metadata": {},
   "outputs": [
    {
     "data": {
      "image/png": "[encoded data removed]",
      "text/plain": [
       "<Figure size 432x288 with 1 Axes>"
      ]
     },
     "metadata": {
      "needs_background": "light"
     },
     "output_type": "display_data"
    }
   ],
   "source": [
    "sns.lineplot(data=df, x=\"Year\", y=\"Price (Rs)\").set(title=\"Distribution of Average Price of Cars over the Years\");"
   ]
  },
  {
   "cell_type": "code",
   "execution_count": 32,
   "id": "71e7403d",
   "metadata": {},
   "outputs": [],
   "source": [
    "df_2 = pd.DataFrame(vehicle_data.groupby(\"Condition\")\\\n",
    "                          [\"Title\"].count()).reset_index().rename({\"Condition\":\"Condition\"},axis=1);"
   ]
  },
  {
   "cell_type": "code",
   "execution_count": 33,
   "id": "7ddc9efb",
   "metadata": {},
   "outputs": [
    {
     "data": {
      "text/html": [
       "<div>\n",
       "<style scoped>\n",
       "    .dataframe tbody tr th:only-of-type {\n",
       "        vertical-align: middle;\n",
       "    }\n",
       "\n",
       "    .dataframe tbody tr th {\n",
       "        vertical-align: top;\n",
       "    }\n",
       "\n",
       "    .dataframe thead th {\n",
       "        text-align: right;\n",
       "    }\n",
       "</style>\n",
       "<table border=\"1\" class=\"dataframe\">\n",
       "  <thead>\n",
       "    <tr style=\"text-align: right;\">\n",
       "      <th></th>\n",
       "      <th>Condition</th>\n",
       "      <th>Title</th>\n",
       "    </tr>\n",
       "  </thead>\n",
       "  <tbody>\n",
       "    <tr>\n",
       "      <th>0</th>\n",
       "      <td>New</td>\n",
       "      <td>602</td>\n",
       "    </tr>\n",
       "    <tr>\n",
       "      <th>1</th>\n",
       "      <td>Reconditioned</td>\n",
       "      <td>2142</td>\n",
       "    </tr>\n",
       "    <tr>\n",
       "      <th>2</th>\n",
       "      <td>Used</td>\n",
       "      <td>107675</td>\n",
       "    </tr>\n",
       "  </tbody>\n",
       "</table>\n",
       "</div>"
      ],
      "text/plain": [
       "       Condition   Title\n",
       "0            New     602\n",
       "1  Reconditioned    2142\n",
       "2           Used  107675"
      ]
     },
     "execution_count": 33,
     "metadata": {},
     "output_type": "execute_result"
    }
   ],
   "source": [
    "df_2.drop(df_2[df_2['Condition'] == 'e'].index, inplace = True)\n",
    "df_3 = df_2.replace('Recondition','Reconditioned')\n",
    "df_4 = pd.DataFrame(df_3.groupby(\"Condition\")\\\n",
    "                          [\"Title\"].sum()).reset_index().rename({\"Condition\":\"Condition\"},axis=1);\n",
    "df_4"
   ]
  },
  {
   "cell_type": "code",
   "execution_count": 34,
   "id": "0dad2a43",
   "metadata": {},
   "outputs": [
    {
     "data": {
      "image/png": "[encoded data removed]",
      "text/plain": [
       "<Figure size 432x288 with 1 Axes>"
      ]
     },
     "metadata": {},
     "output_type": "display_data"
    }
   ],
   "source": [
    "y = df_4[\"Title\"]\n",
    "lbl = df_4[\"Condition\"]\n",
    "epld = [0.1,0.8,0.5]\n",
    "plt.pie(y, labels=lbl, startangle = 180, explode = epld, autopct='%1.2f%%')\n",
    "plt.title(\"Sum of sale prices according to vehicle types\")\n",
    "plt.show();"
   ]
  },
  {
   "cell_type": "code",
   "execution_count": 35,
   "id": "34853409",
   "metadata": {},
   "outputs": [
    {
     "data": {
      "text/html": [
       "<div>\n",
       "<style scoped>\n",
       "    .dataframe tbody tr th:only-of-type {\n",
       "        vertical-align: middle;\n",
       "    }\n",
       "\n",
       "    .dataframe tbody tr th {\n",
       "        vertical-align: top;\n",
       "    }\n",
       "\n",
       "    .dataframe thead th {\n",
       "        text-align: right;\n",
       "    }\n",
       "</style>\n",
       "<table border=\"1\" class=\"dataframe\">\n",
       "  <thead>\n",
       "    <tr style=\"text-align: right;\">\n",
       "      <th></th>\n",
       "      <th>Fuel</th>\n",
       "      <th>Title</th>\n",
       "    </tr>\n",
       "  </thead>\n",
       "  <tbody>\n",
       "    <tr>\n",
       "      <th>1</th>\n",
       "      <td>Diesel</td>\n",
       "      <td>18080</td>\n",
       "    </tr>\n",
       "    <tr>\n",
       "      <th>4</th>\n",
       "      <td>Hybrid</td>\n",
       "      <td>13264</td>\n",
       "    </tr>\n",
       "    <tr>\n",
       "      <th>8</th>\n",
       "      <td>Petrol</td>\n",
       "      <td>78702</td>\n",
       "    </tr>\n",
       "  </tbody>\n",
       "</table>\n",
       "</div>"
      ],
      "text/plain": [
       "     Fuel  Title\n",
       "1  Diesel  18080\n",
       "4  Hybrid  13264\n",
       "8  Petrol  78702"
      ]
     },
     "execution_count": 35,
     "metadata": {},
     "output_type": "execute_result"
    }
   ],
   "source": [
    "df_5 = pd.DataFrame(vehicle_data.groupby(\"Fuel\")\\\n",
    "                          [\"Title\"].count()).reset_index().rename({\"Condition\":\"Condition\"},axis=1);\n",
    "df_6 = df_5.loc[df_5['Fuel'].isin(['Diesel','Hybrid','Petrol'])]\n",
    "df_6"
   ]
  },
  {
   "cell_type": "code",
   "execution_count": 36,
   "id": "0b600481",
   "metadata": {},
   "outputs": [
    {
     "data": {
      "image/png": "[encoded data removed]",
      "text/plain": [
       "<Figure size 432x288 with 1 Axes>"
      ]
     },
     "metadata": {
      "needs_background": "light"
     },
     "output_type": "display_data"
    }
   ],
   "source": [
    "x = df_6[\"Fuel\"]\n",
    "y = df_6[\"Title\"]\n",
    "\n",
    "plt.bar(x,y)\n",
    "plt.title(\"Distribution of cars over Fuel type\")\n",
    "plt.xlabel(\"Fuel type\")\n",
    "plt.ylabel(\"Number of vehicles\")\n",
    "plt.xticks(fontsize=14)\n",
    "plt.show();"
   ]
  },
  {
   "cell_type": "code",
   "execution_count": null,
   "id": "3258852d",
   "metadata": {},
   "outputs": [],
   "source": []
  },
  {
   "cell_type": "markdown",
   "id": "efbf7fab",
   "metadata": {},
   "source": [
    "## Model Building"
   ]
  },
  {
   "cell_type": "markdown",
   "id": "eee0807a",
   "metadata": {},
   "source": [
    "### Linear Regression"
   ]
  },
  {
   "cell_type": "code",
   "execution_count": 37,
   "id": "ec3335a5",
   "metadata": {},
   "outputs": [],
   "source": [
    "import warnings\n",
    "warnings.filterwarnings(\"ignore\")\n",
    "\n",
    "from sklearn.model_selection import train_test_split\n",
    "from sklearn.linear_model import LinearRegression\n",
    "from sklearn.ensemble import RandomForestRegressor\n",
    "from sklearn.metrics import mean_squared_error"
   ]
  },
  {
   "cell_type": "code",
   "execution_count": 38,
   "id": "48051e36",
   "metadata": {},
   "outputs": [],
   "source": [
    "df0 = vehicle_data"
   ]
  },
  {
   "cell_type": "code",
   "execution_count": 39,
   "id": "c398e7e8",
   "metadata": {},
   "outputs": [],
   "source": [
    "df = df0.sample(frac=0.1)"
   ]
  },
  {
   "cell_type": "code",
   "execution_count": 40,
   "id": "4d30b59b",
   "metadata": {},
   "outputs": [],
   "source": [
    "def outlier_detection(colname):\n",
    "  upper_limit = df[colname].mean() + 3*df[colname].std()\n",
    "  lower_limit = df[colname].mean() - 3*df[colname].std()\n",
    "  return upper_limit, lower_limit"
   ]
  },
  {
   "cell_type": "code",
   "execution_count": 41,
   "id": "bd80085e",
   "metadata": {},
   "outputs": [
    {
     "data": {
      "text/plain": [
       "Title                     object\n",
       "Price (Rs)               float64\n",
       "Brand                     object\n",
       "Model                     object\n",
       "Edition                   object\n",
       "Year              datetime64[ns]\n",
       "Condition                 object\n",
       "Transmission              object\n",
       "Body                      object\n",
       "Fuel                      object\n",
       "Capacity(cc)               int64\n",
       "Mileage(km)                int64\n",
       "Location                  object\n",
       "Post_URL                  object\n",
       "Seller_name               object\n",
       "Seller_type               object\n",
       "published_date    datetime64[ns]\n",
       "dtype: object"
      ]
     },
     "execution_count": 41,
     "metadata": {},
     "output_type": "execute_result"
    }
   ],
   "source": [
    "df.dtypes"
   ]
  },
  {
   "cell_type": "code",
   "execution_count": 42,
   "id": "e6f60a54",
   "metadata": {},
   "outputs": [],
   "source": [
    "cleaned_df = df[(df[\"Price (Rs)\"] > outlier_detection(\"Price (Rs)\")[1]) & (df[\"Price (Rs)\"] < outlier_detection(\"Price (Rs)\")[0])]\n",
    "cleaned_df = df[(df[\"Capacity(cc)\"] > outlier_detection(\"Capacity(cc)\")[1]) & (df[\"Capacity(cc)\"] < outlier_detection(\"Capacity(cc)\")[0])]\n",
    "cleaned_df = df[(df[\"Mileage(km)\"] > outlier_detection(\"Mileage(km)\")[1]) & (df[\"Mileage(km)\"] < outlier_detection(\"Mileage(km)\")[0])]"
   ]
  },
  {
   "cell_type": "code",
   "execution_count": 43,
   "id": "26928328",
   "metadata": {},
   "outputs": [],
   "source": [
    "COLS_NEEDED = [\"Title\", \"Condition\", \"Seller_name\", \"Price (Rs)\", \"Capacity(cc)\", \"Mileage(km)\",\n",
    "               \"Transmission\", \"Seller_type\"]\n",
    "df1 = cleaned_df[COLS_NEEDED]"
   ]
  },
  {
   "cell_type": "code",
   "execution_count": 44,
   "id": "dd148637",
   "metadata": {},
   "outputs": [],
   "source": [
    "COLS_TO_ONE_HOT = [\"Title\", \"Condition\", \"Seller_name\", 'Transmission']\n",
    "df2 = df1[COLS_TO_ONE_HOT]"
   ]
  },
  {
   "cell_type": "code",
   "execution_count": 46,
   "id": "3c63731b",
   "metadata": {},
   "outputs": [],
   "source": [
    "from sklearn.preprocessing import OneHotEncoder\n",
    "\n",
    "ohe = OneHotEncoder(handle_unknown=\"ignore\")\n",
    "ohe_values = ohe.fit_transform(df2).toarray()\n",
    "ohe_columns = ohe.get_feature_names_out()\n",
    "df4 = pd.DataFrame(ohe_values, columns=ohe_columns)"
   ]
  },
  {
   "cell_type": "code",
   "execution_count": 48,
   "id": "094b7846",
   "metadata": {},
   "outputs": [
    {
     "data": {
      "text/html": [
       "<div>\n",
       "<style scoped>\n",
       "    .dataframe tbody tr th:only-of-type {\n",
       "        vertical-align: middle;\n",
       "    }\n",
       "\n",
       "    .dataframe tbody tr th {\n",
       "        vertical-align: top;\n",
       "    }\n",
       "\n",
       "    .dataframe thead th {\n",
       "        text-align: right;\n",
       "    }\n",
       "</style>\n",
       "<table border=\"1\" class=\"dataframe\">\n",
       "  <thead>\n",
       "    <tr style=\"text-align: right;\">\n",
       "      <th></th>\n",
       "      <th>Title_Acura Alto</th>\n",
       "      <th>Title_Acura Aqua G Limited</th>\n",
       "      <th>Title_Alfa Romeo Other Model</th>\n",
       "      <th>Title_Aprilia SR 125</th>\n",
       "      <th>Title_Aprilia SR 150</th>\n",
       "      <th>Title_Ashok-Leyland 1613</th>\n",
       "      <th>Title_Ashok-Leyland 1616</th>\n",
       "      <th>Title_Ashok-Leyland 1616 IL</th>\n",
       "      <th>Title_Ashok-Leyland Bowser</th>\n",
       "      <th>Title_Ashok-Leyland Cargo 1613</th>\n",
       "      <th>...</th>\n",
       "      <th>Seller_name_ගාමිණී</th>\n",
       "      <th>Seller_name_රාජපක්ෂ</th>\n",
       "      <th>Seller_name_සජීව</th>\n",
       "      <th>Seller_name_සුගුණ දස්සි හ</th>\n",
       "      <th>Transmission_1200</th>\n",
       "      <th>Transmission_175</th>\n",
       "      <th>Transmission_Automatic</th>\n",
       "      <th>Transmission_Manual</th>\n",
       "      <th>Transmission_Other transmission</th>\n",
       "      <th>Transmission_Tiptronic</th>\n",
       "    </tr>\n",
       "  </thead>\n",
       "  <tbody>\n",
       "    <tr>\n",
       "      <th>0</th>\n",
       "      <td>0.0</td>\n",
       "      <td>0.0</td>\n",
       "      <td>0.0</td>\n",
       "      <td>0.0</td>\n",
       "      <td>0.0</td>\n",
       "      <td>0.0</td>\n",
       "      <td>0.0</td>\n",
       "      <td>0.0</td>\n",
       "      <td>0.0</td>\n",
       "      <td>0.0</td>\n",
       "      <td>...</td>\n",
       "      <td>0.0</td>\n",
       "      <td>0.0</td>\n",
       "      <td>0.0</td>\n",
       "      <td>0.0</td>\n",
       "      <td>0.0</td>\n",
       "      <td>0.0</td>\n",
       "      <td>1.0</td>\n",
       "      <td>0.0</td>\n",
       "      <td>0.0</td>\n",
       "      <td>0.0</td>\n",
       "    </tr>\n",
       "    <tr>\n",
       "      <th>1</th>\n",
       "      <td>0.0</td>\n",
       "      <td>0.0</td>\n",
       "      <td>0.0</td>\n",
       "      <td>0.0</td>\n",
       "      <td>0.0</td>\n",
       "      <td>0.0</td>\n",
       "      <td>0.0</td>\n",
       "      <td>0.0</td>\n",
       "      <td>0.0</td>\n",
       "      <td>0.0</td>\n",
       "      <td>...</td>\n",
       "      <td>0.0</td>\n",
       "      <td>0.0</td>\n",
       "      <td>0.0</td>\n",
       "      <td>0.0</td>\n",
       "      <td>0.0</td>\n",
       "      <td>0.0</td>\n",
       "      <td>0.0</td>\n",
       "      <td>1.0</td>\n",
       "      <td>0.0</td>\n",
       "      <td>0.0</td>\n",
       "    </tr>\n",
       "    <tr>\n",
       "      <th>2</th>\n",
       "      <td>0.0</td>\n",
       "      <td>0.0</td>\n",
       "      <td>0.0</td>\n",
       "      <td>0.0</td>\n",
       "      <td>0.0</td>\n",
       "      <td>0.0</td>\n",
       "      <td>0.0</td>\n",
       "      <td>0.0</td>\n",
       "      <td>0.0</td>\n",
       "      <td>0.0</td>\n",
       "      <td>...</td>\n",
       "      <td>0.0</td>\n",
       "      <td>0.0</td>\n",
       "      <td>0.0</td>\n",
       "      <td>0.0</td>\n",
       "      <td>0.0</td>\n",
       "      <td>0.0</td>\n",
       "      <td>1.0</td>\n",
       "      <td>0.0</td>\n",
       "      <td>0.0</td>\n",
       "      <td>0.0</td>\n",
       "    </tr>\n",
       "    <tr>\n",
       "      <th>3</th>\n",
       "      <td>0.0</td>\n",
       "      <td>0.0</td>\n",
       "      <td>0.0</td>\n",
       "      <td>0.0</td>\n",
       "      <td>0.0</td>\n",
       "      <td>0.0</td>\n",
       "      <td>0.0</td>\n",
       "      <td>0.0</td>\n",
       "      <td>0.0</td>\n",
       "      <td>0.0</td>\n",
       "      <td>...</td>\n",
       "      <td>0.0</td>\n",
       "      <td>0.0</td>\n",
       "      <td>0.0</td>\n",
       "      <td>0.0</td>\n",
       "      <td>0.0</td>\n",
       "      <td>0.0</td>\n",
       "      <td>1.0</td>\n",
       "      <td>0.0</td>\n",
       "      <td>0.0</td>\n",
       "      <td>0.0</td>\n",
       "    </tr>\n",
       "    <tr>\n",
       "      <th>4</th>\n",
       "      <td>0.0</td>\n",
       "      <td>0.0</td>\n",
       "      <td>0.0</td>\n",
       "      <td>0.0</td>\n",
       "      <td>0.0</td>\n",
       "      <td>0.0</td>\n",
       "      <td>0.0</td>\n",
       "      <td>0.0</td>\n",
       "      <td>0.0</td>\n",
       "      <td>0.0</td>\n",
       "      <td>...</td>\n",
       "      <td>0.0</td>\n",
       "      <td>0.0</td>\n",
       "      <td>0.0</td>\n",
       "      <td>0.0</td>\n",
       "      <td>0.0</td>\n",
       "      <td>0.0</td>\n",
       "      <td>1.0</td>\n",
       "      <td>0.0</td>\n",
       "      <td>0.0</td>\n",
       "      <td>0.0</td>\n",
       "    </tr>\n",
       "  </tbody>\n",
       "</table>\n",
       "<p>5 rows × 7765 columns</p>\n",
       "</div>"
      ],
      "text/plain": [
       "   Title_Acura Alto  Title_Acura Aqua G Limited  Title_Alfa Romeo Other Model  \\\n",
       "0               0.0                         0.0                           0.0   \n",
       "1               0.0                         0.0                           0.0   \n",
       "2               0.0                         0.0                           0.0   \n",
       "3               0.0                         0.0                           0.0   \n",
       "4               0.0                         0.0                           0.0   \n",
       "\n",
       "   Title_Aprilia SR 125  Title_Aprilia SR 150  Title_Ashok-Leyland 1613  \\\n",
       "0                   0.0                   0.0                       0.0   \n",
       "1                   0.0                   0.0                       0.0   \n",
       "2                   0.0                   0.0                       0.0   \n",
       "3                   0.0                   0.0                       0.0   \n",
       "4                   0.0                   0.0                       0.0   \n",
       "\n",
       "   Title_Ashok-Leyland 1616  Title_Ashok-Leyland 1616 IL  \\\n",
       "0                       0.0                          0.0   \n",
       "1                       0.0                          0.0   \n",
       "2                       0.0                          0.0   \n",
       "3                       0.0                          0.0   \n",
       "4                       0.0                          0.0   \n",
       "\n",
       "   Title_Ashok-Leyland Bowser  Title_Ashok-Leyland Cargo 1613  ...  \\\n",
       "0                         0.0                             0.0  ...   \n",
       "1                         0.0                             0.0  ...   \n",
       "2                         0.0                             0.0  ...   \n",
       "3                         0.0                             0.0  ...   \n",
       "4                         0.0                             0.0  ...   \n",
       "\n",
       "   Seller_name_ගාමිණී  Seller_name_රාජපක්ෂ  Seller_name_සජීව  \\\n",
       "0                 0.0                  0.0               0.0   \n",
       "1                 0.0                  0.0               0.0   \n",
       "2                 0.0                  0.0               0.0   \n",
       "3                 0.0                  0.0               0.0   \n",
       "4                 0.0                  0.0               0.0   \n",
       "\n",
       "   Seller_name_සුගුණ දස්සි හ  Transmission_1200  Transmission_175  \\\n",
       "0                        0.0                0.0               0.0   \n",
       "1                        0.0                0.0               0.0   \n",
       "2                        0.0                0.0               0.0   \n",
       "3                        0.0                0.0               0.0   \n",
       "4                        0.0                0.0               0.0   \n",
       "\n",
       "   Transmission_Automatic  Transmission_Manual  \\\n",
       "0                     1.0                  0.0   \n",
       "1                     0.0                  1.0   \n",
       "2                     1.0                  0.0   \n",
       "3                     1.0                  0.0   \n",
       "4                     1.0                  0.0   \n",
       "\n",
       "   Transmission_Other transmission  Transmission_Tiptronic  \n",
       "0                              0.0                     0.0  \n",
       "1                              0.0                     0.0  \n",
       "2                              0.0                     0.0  \n",
       "3                              0.0                     0.0  \n",
       "4                              0.0                     0.0  \n",
       "\n",
       "[5 rows x 7765 columns]"
      ]
     },
     "execution_count": 48,
     "metadata": {},
     "output_type": "execute_result"
    }
   ],
   "source": [
    "df4.head()"
   ]
  },
  {
   "cell_type": "code",
   "execution_count": 49,
   "id": "f7a7e9b9",
   "metadata": {},
   "outputs": [
    {
     "data": {
      "text/html": [
       "<div>\n",
       "<style scoped>\n",
       "    .dataframe tbody tr th:only-of-type {\n",
       "        vertical-align: middle;\n",
       "    }\n",
       "\n",
       "    .dataframe tbody tr th {\n",
       "        vertical-align: top;\n",
       "    }\n",
       "\n",
       "    .dataframe thead th {\n",
       "        text-align: right;\n",
       "    }\n",
       "</style>\n",
       "<table border=\"1\" class=\"dataframe\">\n",
       "  <thead>\n",
       "    <tr style=\"text-align: right;\">\n",
       "      <th></th>\n",
       "      <th>Title</th>\n",
       "      <th>Condition</th>\n",
       "      <th>Seller_name</th>\n",
       "      <th>Price (Rs)</th>\n",
       "      <th>Capacity(cc)</th>\n",
       "      <th>Mileage(km)</th>\n",
       "      <th>Transmission</th>\n",
       "      <th>Seller_type</th>\n",
       "    </tr>\n",
       "  </thead>\n",
       "  <tbody>\n",
       "    <tr>\n",
       "      <th>101824</th>\n",
       "      <td>Toyota Premio G Superior</td>\n",
       "      <td>Used</td>\n",
       "      <td>Jayantha</td>\n",
       "      <td>9400000.0</td>\n",
       "      <td>1500</td>\n",
       "      <td>88974</td>\n",
       "      <td>Automatic</td>\n",
       "      <td>Member</td>\n",
       "    </tr>\n",
       "    <tr>\n",
       "      <th>52005</th>\n",
       "      <td>Suzuki Wagon R</td>\n",
       "      <td>Used</td>\n",
       "      <td>Biyanka Perera</td>\n",
       "      <td>3150000.0</td>\n",
       "      <td>1100</td>\n",
       "      <td>50900</td>\n",
       "      <td>Manual</td>\n",
       "      <td>Premium-Member</td>\n",
       "    </tr>\n",
       "    <tr>\n",
       "      <th>82024</th>\n",
       "      <td>Toyota LAND CRUISER PRADO</td>\n",
       "      <td>Used</td>\n",
       "      <td>NALIN AUTO ENTERPRISES</td>\n",
       "      <td>24500000.0</td>\n",
       "      <td>2700</td>\n",
       "      <td>135000</td>\n",
       "      <td>Automatic</td>\n",
       "      <td>Member</td>\n",
       "    </tr>\n",
       "    <tr>\n",
       "      <th>115299</th>\n",
       "      <td>TVS NTORQ 125</td>\n",
       "      <td>Used</td>\n",
       "      <td>Fadhir</td>\n",
       "      <td>180000.0</td>\n",
       "      <td>125</td>\n",
       "      <td>15000</td>\n",
       "      <td>Automatic</td>\n",
       "      <td>Member</td>\n",
       "    </tr>\n",
       "    <tr>\n",
       "      <th>19557</th>\n",
       "      <td>Suzuki Wagon R FZ</td>\n",
       "      <td>Used</td>\n",
       "      <td>K-Auto Mart</td>\n",
       "      <td>5990000.0</td>\n",
       "      <td>660</td>\n",
       "      <td>59800</td>\n",
       "      <td>Automatic</td>\n",
       "      <td>Premium-Member</td>\n",
       "    </tr>\n",
       "  </tbody>\n",
       "</table>\n",
       "</div>"
      ],
      "text/plain": [
       "                            Title Condition             Seller_name  \\\n",
       "101824   Toyota Premio G Superior      Used                Jayantha   \n",
       "52005              Suzuki Wagon R      Used          Biyanka Perera   \n",
       "82024   Toyota LAND CRUISER PRADO      Used  NALIN AUTO ENTERPRISES   \n",
       "115299              TVS NTORQ 125      Used                  Fadhir   \n",
       "19557           Suzuki Wagon R FZ      Used             K-Auto Mart   \n",
       "\n",
       "        Price (Rs)  Capacity(cc)  Mileage(km) Transmission     Seller_type  \n",
       "101824   9400000.0          1500        88974    Automatic          Member  \n",
       "52005    3150000.0          1100        50900       Manual  Premium-Member  \n",
       "82024   24500000.0          2700       135000    Automatic          Member  \n",
       "115299    180000.0           125        15000    Automatic          Member  \n",
       "19557    5990000.0           660        59800    Automatic  Premium-Member  "
      ]
     },
     "execution_count": 49,
     "metadata": {},
     "output_type": "execute_result"
    }
   ],
   "source": [
    "df1.head()"
   ]
  },
  {
   "cell_type": "code",
   "execution_count": 50,
   "id": "87cbc529",
   "metadata": {},
   "outputs": [
    {
     "data": {
      "text/html": [
       "<div>\n",
       "<style scoped>\n",
       "    .dataframe tbody tr th:only-of-type {\n",
       "        vertical-align: middle;\n",
       "    }\n",
       "\n",
       "    .dataframe tbody tr th {\n",
       "        vertical-align: top;\n",
       "    }\n",
       "\n",
       "    .dataframe thead th {\n",
       "        text-align: right;\n",
       "    }\n",
       "</style>\n",
       "<table border=\"1\" class=\"dataframe\">\n",
       "  <thead>\n",
       "    <tr style=\"text-align: right;\">\n",
       "      <th></th>\n",
       "      <th>Capacity(cc)</th>\n",
       "      <th>Mileage(km)</th>\n",
       "    </tr>\n",
       "  </thead>\n",
       "  <tbody>\n",
       "    <tr>\n",
       "      <th>101824</th>\n",
       "      <td>1500</td>\n",
       "      <td>88974</td>\n",
       "    </tr>\n",
       "    <tr>\n",
       "      <th>52005</th>\n",
       "      <td>1100</td>\n",
       "      <td>50900</td>\n",
       "    </tr>\n",
       "    <tr>\n",
       "      <th>82024</th>\n",
       "      <td>2700</td>\n",
       "      <td>135000</td>\n",
       "    </tr>\n",
       "    <tr>\n",
       "      <th>115299</th>\n",
       "      <td>125</td>\n",
       "      <td>15000</td>\n",
       "    </tr>\n",
       "    <tr>\n",
       "      <th>19557</th>\n",
       "      <td>660</td>\n",
       "      <td>59800</td>\n",
       "    </tr>\n",
       "    <tr>\n",
       "      <th>...</th>\n",
       "      <td>...</td>\n",
       "      <td>...</td>\n",
       "    </tr>\n",
       "    <tr>\n",
       "      <th>80640</th>\n",
       "      <td>1500</td>\n",
       "      <td>149000</td>\n",
       "    </tr>\n",
       "    <tr>\n",
       "      <th>14078</th>\n",
       "      <td>1000</td>\n",
       "      <td>40000</td>\n",
       "    </tr>\n",
       "    <tr>\n",
       "      <th>44460</th>\n",
       "      <td>1000</td>\n",
       "      <td>8837</td>\n",
       "    </tr>\n",
       "    <tr>\n",
       "      <th>12314</th>\n",
       "      <td>1340</td>\n",
       "      <td>268000</td>\n",
       "    </tr>\n",
       "    <tr>\n",
       "      <th>121905</th>\n",
       "      <td>1800</td>\n",
       "      <td>106700</td>\n",
       "    </tr>\n",
       "  </tbody>\n",
       "</table>\n",
       "<p>11053 rows × 2 columns</p>\n",
       "</div>"
      ],
      "text/plain": [
       "        Capacity(cc)  Mileage(km)\n",
       "101824          1500        88974\n",
       "52005           1100        50900\n",
       "82024           2700       135000\n",
       "115299           125        15000\n",
       "19557            660        59800\n",
       "...              ...          ...\n",
       "80640           1500       149000\n",
       "14078           1000        40000\n",
       "44460           1000         8837\n",
       "12314           1340       268000\n",
       "121905          1800       106700\n",
       "\n",
       "[11053 rows x 2 columns]"
      ]
     },
     "execution_count": 50,
     "metadata": {},
     "output_type": "execute_result"
    }
   ],
   "source": [
    "df1[[\"Capacity(cc)\",\"Mileage(km)\"]]"
   ]
  },
  {
   "cell_type": "code",
   "execution_count": 51,
   "id": "4c0e37f9",
   "metadata": {},
   "outputs": [],
   "source": [
    "from sklearn.preprocessing import Normalizer"
   ]
  },
  {
   "cell_type": "code",
   "execution_count": 52,
   "id": "2589ddbb",
   "metadata": {},
   "outputs": [],
   "source": [
    "norm = Normalizer()"
   ]
  },
  {
   "cell_type": "code",
   "execution_count": 53,
   "id": "747216e8",
   "metadata": {},
   "outputs": [],
   "source": [
    "norm_values = norm.fit_transform(df[[\"Capacity(cc)\", \"Mileage(km)\"]])\n",
    "norm_cols = [\"norm_Capacity(cc)\", \"norm_Mileage(km)\"]"
   ]
  },
  {
   "cell_type": "code",
   "execution_count": 54,
   "id": "a5f0ec1b",
   "metadata": {},
   "outputs": [],
   "source": [
    "df5 = pd.DataFrame(norm_values, columns=norm_cols)"
   ]
  },
  {
   "cell_type": "code",
   "execution_count": 55,
   "id": "871ed1cc",
   "metadata": {},
   "outputs": [
    {
     "data": {
      "text/html": [
       "<div>\n",
       "<style scoped>\n",
       "    .dataframe tbody tr th:only-of-type {\n",
       "        vertical-align: middle;\n",
       "    }\n",
       "\n",
       "    .dataframe tbody tr th {\n",
       "        vertical-align: top;\n",
       "    }\n",
       "\n",
       "    .dataframe thead th {\n",
       "        text-align: right;\n",
       "    }\n",
       "</style>\n",
       "<table border=\"1\" class=\"dataframe\">\n",
       "  <thead>\n",
       "    <tr style=\"text-align: right;\">\n",
       "      <th></th>\n",
       "      <th>norm_Capacity(cc)</th>\n",
       "      <th>norm_Mileage(km)</th>\n",
       "    </tr>\n",
       "  </thead>\n",
       "  <tbody>\n",
       "    <tr>\n",
       "      <th>0</th>\n",
       "      <td>0.016856</td>\n",
       "      <td>0.999858</td>\n",
       "    </tr>\n",
       "    <tr>\n",
       "      <th>1</th>\n",
       "      <td>0.021606</td>\n",
       "      <td>0.999767</td>\n",
       "    </tr>\n",
       "    <tr>\n",
       "      <th>2</th>\n",
       "      <td>0.019996</td>\n",
       "      <td>0.999800</td>\n",
       "    </tr>\n",
       "    <tr>\n",
       "      <th>3</th>\n",
       "      <td>0.008333</td>\n",
       "      <td>0.999965</td>\n",
       "    </tr>\n",
       "    <tr>\n",
       "      <th>4</th>\n",
       "      <td>0.011036</td>\n",
       "      <td>0.999939</td>\n",
       "    </tr>\n",
       "  </tbody>\n",
       "</table>\n",
       "</div>"
      ],
      "text/plain": [
       "   norm_Capacity(cc)  norm_Mileage(km)\n",
       "0           0.016856          0.999858\n",
       "1           0.021606          0.999767\n",
       "2           0.019996          0.999800\n",
       "3           0.008333          0.999965\n",
       "4           0.011036          0.999939"
      ]
     },
     "execution_count": 55,
     "metadata": {},
     "output_type": "execute_result"
    }
   ],
   "source": [
    "df5.head()"
   ]
  },
  {
   "cell_type": "code",
   "execution_count": 65,
   "id": "370185e6",
   "metadata": {},
   "outputs": [],
   "source": [
    "final_df = pd.concat([df4, df5], axis=1)"
   ]
  },
  {
   "cell_type": "code",
   "execution_count": 61,
   "id": "618dbab7",
   "metadata": {},
   "outputs": [],
   "source": [
    "X = final_df\n",
    "y = df1[\"Price (Rs)\"].fillna(value=np.mean(df1[\"Price (Rs)\"]))"
   ]
  },
  {
   "cell_type": "code",
   "execution_count": 66,
   "id": "b6a9ce9c",
   "metadata": {},
   "outputs": [],
   "source": [
    "X.drop(X.tail(10).index,\n",
    "        inplace = True)"
   ]
  },
  {
   "cell_type": "code",
   "execution_count": 67,
   "id": "1ba85eec",
   "metadata": {},
   "outputs": [
    {
     "data": {
      "text/plain": [
       "(11053, 7767)"
      ]
     },
     "execution_count": 67,
     "metadata": {},
     "output_type": "execute_result"
    }
   ],
   "source": [
    "X.shape"
   ]
  },
  {
   "cell_type": "code",
   "execution_count": 68,
   "id": "986b7246",
   "metadata": {},
   "outputs": [
    {
     "data": {
      "text/plain": [
       "(11053,)"
      ]
     },
     "execution_count": 68,
     "metadata": {},
     "output_type": "execute_result"
    }
   ],
   "source": [
    "y.shape"
   ]
  },
  {
   "cell_type": "code",
   "execution_count": 69,
   "id": "8f262d28",
   "metadata": {},
   "outputs": [],
   "source": [
    "X_train, X_test, y_train, y_test = train_test_split(X, y, test_size=0.33, random_state=42)\n",
    "\n",
    "lin_reg = LinearRegression()\n",
    "lin_reg.fit(X_train, y_train)\n",
    "pred_values = lin_reg.predict(X_test)"
   ]
  },
  {
   "cell_type": "code",
   "execution_count": 70,
   "id": "43d4b47a",
   "metadata": {},
   "outputs": [
    {
     "data": {
      "text/plain": [
       "Index(['Title_Acura Alto', 'Title_Acura Aqua G Limited',\n",
       "       'Title_Alfa Romeo Other Model', 'Title_Aprilia SR 125',\n",
       "       'Title_Aprilia SR 150', 'Title_Ashok-Leyland 1613',\n",
       "       'Title_Ashok-Leyland 1616', 'Title_Ashok-Leyland 1616 IL',\n",
       "       'Title_Ashok-Leyland Bowser', 'Title_Ashok-Leyland Cargo 1613',\n",
       "       ...\n",
       "       'Seller_name_සජීව', 'Seller_name_සුගුණ දස්සි හ', 'Transmission_1200',\n",
       "       'Transmission_175', 'Transmission_Automatic', 'Transmission_Manual',\n",
       "       'Transmission_Other transmission', 'Transmission_Tiptronic',\n",
       "       'norm_Capacity(cc)', 'norm_Mileage(km)'],\n",
       "      dtype='object', length=7767)"
      ]
     },
     "execution_count": 70,
     "metadata": {},
     "output_type": "execute_result"
    }
   ],
   "source": [
    "final_df.columns"
   ]
  },
  {
   "cell_type": "code",
   "execution_count": 71,
   "id": "0f167305",
   "metadata": {},
   "outputs": [
    {
     "data": {
      "text/plain": [
       "1.1873796776373873e+37"
      ]
     },
     "execution_count": 71,
     "metadata": {},
     "output_type": "execute_result"
    }
   ],
   "source": [
    "mean_squared_error(y_test, pred_values)"
   ]
  },
  {
   "cell_type": "code",
   "execution_count": 72,
   "id": "9b031873",
   "metadata": {},
   "outputs": [
    {
     "data": {
      "text/plain": [
       "(11063, 7767)"
      ]
     },
     "execution_count": 72,
     "metadata": {},
     "output_type": "execute_result"
    }
   ],
   "source": [
    "final_df.shape"
   ]
  },
  {
   "cell_type": "code",
   "execution_count": 73,
   "id": "b7f33620",
   "metadata": {},
   "outputs": [],
   "source": [
    "def final_model(model):\n",
    "  model = model()\n",
    "  model.fit(X_train, y_train)\n",
    "  y_pred = model.predict(X_test)\n",
    "  error_term = mean_squared_error(y_test, pred_values)\n",
    "  print(\"Error: \", error_term)"
   ]
  },
  {
   "cell_type": "code",
   "execution_count": 74,
   "id": "1e5fa8c1",
   "metadata": {},
   "outputs": [
    {
     "name": "stdout",
     "output_type": "stream",
     "text": [
      "Error:  1.1873796776373873e+37\n"
     ]
    }
   ],
   "source": [
    "final_model(LinearRegression)"
   ]
  },
  {
   "cell_type": "code",
   "execution_count": null,
   "id": "57f30283",
   "metadata": {},
   "outputs": [],
   "source": []
  }
 ],
 "metadata": {
  "kernelspec": {
   "display_name": "Python 3 (ipykernel)",
   "language": "python",
   "name": "python3"
  },
  "language_info": {
   "codemirror_mode": {
    "name": "ipython",
    "version": 3
   },
   "file_extension": ".py",
   "mimetype": "text/x-python",
   "name": "python",
   "nbconvert_exporter": "python",
   "pygments_lexer": "ipython3",
   "version": "3.9.12"
  }
 },
 "nbformat": 4,
 "nbformat_minor": 5
}
